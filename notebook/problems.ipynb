{
    "cells": [
        {
            "cell_type": "markdown",
            "id": "ac622319",
            "metadata": {},
            "source": [
                "# Descriptive statistics problems"
            ]
        },
        {
            "cell_type": "markdown",
            "id": "5e0ab0d5",
            "metadata": {},
            "source": [
                "### Exercise 1\n",
                "\n",
                "We will use NumPy to obtain information to describe statistically.\n",
                "\n",
                "- Generate an array of 100 elements following a normal distribution.\n",
                "- Generate an array of 100 elements following a chi-square distribution with 3 degrees of freedom.\n",
                "- Calculate the main metrics and statistical measures that best describe the two vectors."
            ]
        },
        {
            "cell_type": "code",
            "execution_count": 7,
            "id": "34720ab6",
            "metadata": {},
            "outputs": [
                {
                    "name": "stdout",
                    "output_type": "stream",
                    "text": [
                        "datos_normales: [-0.33798771 -0.60679889  0.85663719 -2.15681984 -1.24055315 -0.01349049\n",
                        " -0.39206045  0.67077085 -1.35669076  1.39346651 -0.74627554 -0.82807826\n",
                        "  1.32627363 -0.87712813 -0.47147538 -0.31303595  1.61410616 -1.48819246\n",
                        "  0.63389565  1.29947082  0.21387836  1.95712035 -0.44335727 -1.19141607\n",
                        "  0.23878767  0.41265914 -0.56216159  0.0892958  -0.58494799  1.08295418\n",
                        "  0.03693211 -0.05640826 -0.75978992  0.71983312  1.14824018  0.82958214\n",
                        " -0.88270843  2.21465238  0.05302154  1.07516008  0.56562068 -0.91019875\n",
                        " -0.38946732  0.83165987  0.52557738  3.05001958  0.3035099  -0.76661046\n",
                        "  1.07920124 -1.14723986  0.11548584  0.78153268  0.50409909 -0.56241342\n",
                        " -0.13511187  0.89564908 -0.45204683  0.09745879 -0.72059209  0.47831959\n",
                        "  0.30668574  0.10535116  1.79007944  0.09475441 -0.16307933 -0.21395154\n",
                        " -0.28523308 -0.51655138 -0.06080392 -0.8958661  -0.0478379  -1.31676475\n",
                        "  0.63421078  0.3017767  -1.06892094  0.84674923  0.30322125  0.99199835\n",
                        " -1.82531255 -1.42753099 -1.18896683  0.23851133 -0.8577263  -0.04387416\n",
                        "  1.08690025 -1.83701846  1.43888981 -0.42843159 -1.79118356 -0.81985587\n",
                        "  1.11182983  0.45644021 -0.65096053  0.4153409  -0.50510319 -0.76308099\n",
                        "  2.18488554  0.12722376  0.58234119  0.0172507 ]\n",
                        "datos_chi2:[1.54913879 3.22369456 6.37822658 5.10876151 0.70144043 0.21908549\n",
                        " 5.16161285 2.50999398 3.218234   1.74127144 7.46021348 4.29993682\n",
                        " 6.36775826 8.73254789 5.23204791 0.95034447 1.74225164 1.16497861\n",
                        " 1.73580726 5.56930631 1.60328878 8.55289282 8.56887048 1.23020274\n",
                        " 5.93719813 1.44656267 0.15693686 1.73022955 3.17562007 4.00709267\n",
                        " 0.39815077 1.40961848 0.47156436 5.11416757 1.76364223 5.80824299\n",
                        " 4.70722538 0.9421235  1.28767159 0.52082247 1.14604687 1.30774257\n",
                        " 1.25755908 1.53506997 1.96364826 4.00709421 0.67316735 3.42324901\n",
                        " 3.18624216 1.25265934 1.77943178 2.98874272 5.01954277 2.61306483\n",
                        " 4.22966664 1.00347783 4.38431859 1.89608733 5.71367956 0.71940179\n",
                        " 0.99758941 0.25357734 6.66640881 0.59364238 1.81951963 3.43973448\n",
                        " 0.11242417 9.64435441 0.49074541 2.11119626 3.31637608 0.45817374\n",
                        " 2.64549149 0.58142552 7.96240198 1.45787339 2.5581148  2.97936117\n",
                        " 2.56030202 4.80064121 2.93601872 1.72415682 2.8391852  1.93960536\n",
                        " 3.6524908  0.22820693 0.86864517 0.67637822 3.93167075 1.55191761\n",
                        " 0.1474014  4.69360696 3.5883121  1.12065294 0.20398287 2.45693537\n",
                        " 6.62185262 1.78505377 7.1046661  6.63560497]\n",
                        "Métricas para la distribución normal:\n",
                        "Media: 0.0302820108519541\n",
                        "Mediana: 0.027091401725755797\n",
                        "Desviación Estándar: 0.9690471378055261\n",
                        "\n",
                        "Métricas para la distribución chi-cuadrado:\n",
                        "Media: 2.9215436740129688\n",
                        "Mediana: 2.037422261480305\n",
                        "Desviación Estándar: 2.3137253556111674\n"
                    ]
                }
            ],
            "source": [
                "import numpy as np\n",
                "\n",
                "# Generar datos\n",
                "datos_normales = np.random.normal(loc=0, scale=1, size=100)\n",
                "datos_chi2 = np.random.chisquare(df=3, size=100)\n",
                "\n",
                "print(f\"datos_normales: {datos_normales}\")\n",
                "print(f\"datos_chi2:{datos_chi2}\")\n",
                "\n",
                "\n",
                "# Calcular métricas estadísticas\n",
                "media_normal = np.mean(datos_normales)\n",
                "mediana_normal = np.median(datos_normales)\n",
                "desviacion_estandar_normal = np.std(datos_normales)\n",
                "\n",
                "media_chi2 = np.mean(datos_chi2)\n",
                "mediana_chi2 = np.median(datos_chi2)\n",
                "desviacion_estandar_chi2 = np.std(datos_chi2)\n",
                "\n",
                "print(\"Métricas para la distribución normal:\")\n",
                "print(\"Media:\", media_normal)\n",
                "print(\"Mediana:\", mediana_normal)\n",
                "print(\"Desviación Estándar:\", desviacion_estandar_normal)\n",
                "\n",
                "print(\"\\nMétricas para la distribución chi-cuadrado:\")\n",
                "print(\"Media:\", media_chi2)\n",
                "print(\"Mediana:\", mediana_chi2)\n",
                "print(\"Desviación Estándar:\", desviacion_estandar_chi2)\n",
                "\n"
            ]
        },
        {
            "cell_type": "markdown",
            "id": "46c70c3d",
            "metadata": {},
            "source": [
                "### Exercise 2\n",
                "\n",
                "Write a Python program to calculate the standard deviation of the following data:\n",
                "\n",
                "```py\n",
                "data = [4, 2, 5, 8, 6]\n",
                "```"
            ]
        },
        {
            "cell_type": "code",
            "execution_count": 3,
            "id": "d590308e",
            "metadata": {},
            "outputs": [
                {
                    "name": "stdout",
                    "output_type": "stream",
                    "text": [
                        "Desviación estándar de los datos: 2.0\n"
                    ]
                }
            ],
            "source": [
                "import numpy as np\n",
                "\n",
                "# Datos\n",
                "datos = [4, 2, 5, 8, 6]\n",
                "\n",
                "# Calcular desviación estándar\n",
                "desviacion_estandar = np.std(datos)\n",
                "print(\"Desviación estándar de los datos:\", desviacion_estandar)\n"
            ]
        }
    ],
    "metadata": {
        "interpreter": {
            "hash": "9248718ffe6ce6938b217e69dbcc175ea21f4c6b28a317e96c05334edae734bb"
        },
        "kernelspec": {
            "display_name": "Python 3.9.12 ('ML-BOOTCAMP')",
            "language": "python",
            "name": "python3"
        },
        "language_info": {
            "codemirror_mode": {
                "name": "ipython",
                "version": 3
            },
            "file_extension": ".py",
            "mimetype": "text/x-python",
            "name": "python",
            "nbconvert_exporter": "python",
            "pygments_lexer": "ipython3",
            "version": "3.11.4"
        }
    },
    "nbformat": 4,
    "nbformat_minor": 5
}
